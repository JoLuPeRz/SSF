{
 "cells": [
  {
   "cell_type": "markdown",
   "id": "669ebb45",
   "metadata": {},
   "source": [
    "# <center> Evaluación 2 - Factorización de Matrices\n",
    "# <center> Jorge Luis Pérez Ramírez\n",
    "# <center> Ximena Malagón Nieva\n",
    "\n",
    "---\n",
    "\n",
    "<div class=\"alert alert-block alert-warning\">\n",
    "⚠️ Se utilizó la versión 3.12.7 de Python como kernel para la elaboración y testeo del código mostrado a continuación.\n",
    "</div>\n",
    "\n",
    "---\n",
    "\n",
    "<div class=\"alert alert-block alert-light\">\n",
    "En este notebook se muestra el análisis y desarrollo explícito de la creación de ambos algoritmos que conforman la evaluación.\n",
    "\n",
    "En caso que se requieran evaluar de forma más rápida los algoritmos, se añadieron los archivos .py (sin la explicación y desarrollo explícito presente en esta notebook), al siguiente repositorio:\n",
    "https://github.com/JoLuPeRz/SSF/tree/d1abc8078716bd7bbbd1a1d8802e9fd8f7746fae/Evaluacion2_FactorizacionMatrices\n",
    "</div>\n",
    "\n",
    "---"
   ]
  },
  {
   "cell_type": "markdown",
   "id": "fe129951",
   "metadata": {},
   "source": [
    "1. [Factorización LU (Algoritmo 6.4)](#1)\n",
    "2. [Factorización de Crout, para resolver sistemas lineales tridiagonales (Algoritmo 6.7)](#2)"
   ]
  },
  {
   "cell_type": "markdown",
   "id": "2306c19e",
   "metadata": {},
   "source": [
    "\n",
    "<a id=\"1\"></a>\n",
    "## 1. Factorización LU (Algoritmo 6.4)\n",
    "\n",
    "\n",
    "### Instrucciones\n",
    " Este algorirtmo factoriza una matriz cuadrada arbitraria $A$ (con la restricción que ninguno de sus elementos de la diagonal sea cero) en dos matrices L y U triangulares inferior y superior, respectivamente. El algoritmo permite seleccionar ya sea los elementos de la diagonal de L o bien los de U, los cuales deben ser todos igual a 1.\n",
    "\n",
    "### Desarrollo\n",
    "\n",
    "Se busca factorizar la matriz cuadrada arbitraria $A = [a_{ij}]$ en el producto de la matriz triangular inferior $L = [l_{ij}]$ y la matriz triangular superior $U= [u_{ij}]$; es decir, $A=LU$. Como se menciona en las instrucciones, el algoritmo permitirá seleccionar que la diagonal principal de $L$ o bien de $U$ consista en unos.\n",
    "\n",
    "Como entradas se pide lo siguiente:\n",
    "\n",
    "- La dimensión $n$ de la matriz cuadrada $A$.\n",
    "- Las entradas $a_{ij}, 1 \\leq i,j \\leq n$ de la matriz $A$.\n",
    "- La diagonal $l_{11} = \\ldots = l_{nn} = 1$ de la matriz $L$ o la diagonal $u_{11} = \\ldots = u_{nn} = 1$ de la matriz $U$.\n",
    "\n",
    "\n",
    "Entonces, lo primero que se debe pedir es que se indique la dimensión $n$ de la matriz cuadrada $A$. Para ello, se hará por medio de la siguiente función, la cual evaluará a su vez que el número indicado sea un número entero positivo:"
   ]
  },
  {
   "cell_type": "code",
   "execution_count": 1,
   "id": "38c5339c",
   "metadata": {},
   "outputs": [],
   "source": [
    "def dimension_matA_FactLU():\n",
    "    \"\"\"\n",
    "    Pide al usuario que indique la dimensión de la matriz A.\n",
    "\n",
    "    Evalua si la entrada proporcionada es un número entero positivo.\n",
    "    En caso de que la entrada no sea correcta, solicita que se ingrese un número válido.\n",
    "\n",
    "    Devuelve la dimensión \"n\" de la matriz A. \n",
    "    \"\"\"\n",
    "    # Se inicia la variable n en -1, para garantizar que el while se pueda ejecutar al menos una vez.\n",
    "    n = -1\n",
    "\n",
    "    # Se utiliza un while para que se solicite la dimensión, hasta que se proporcione un número entero positivo.\n",
    "    while n <= 0:\n",
    "        n_dim = input(\"Por favor introduce, como número entero positivo, la dimensión de la matriz cuadrada A\")\n",
    "        if n_dim.isdigit(): # Verifica si la entrada es un dígito. \n",
    "            n = int(n_dim)\n",
    "            if n <= 0:\n",
    "                print(\"La dimensión debe corresponder a un número mayor que cero.\")\n",
    "                print(\"Por favor, ingresa un n > 0.\")\n",
    "        else:\n",
    "            print(\"Se ha proporcionado una dimensión inválida.\")\n",
    "            print(\"Por favor, ingresa un número entero positivo.\")\n",
    "    return n"
   ]
  },
  {
   "cell_type": "markdown",
   "id": "994b8a92",
   "metadata": {},
   "source": [
    "tal que, se almacena el valor de la dimensión por medio de"
   ]
  },
  {
   "cell_type": "code",
   "execution_count": 2,
   "id": "6468545c",
   "metadata": {},
   "outputs": [],
   "source": [
    "n = dimension_matA_FactLU()"
   ]
  },
  {
   "cell_type": "markdown",
   "id": "cb357b45",
   "metadata": {},
   "source": [
    "Una vez que se conoce la dimensión de la matriz $A$, es necesario que se indique dicha matriz. El algoritmo 6.4 pide que se indiquen las entradas $a_{ij}$ de la matriz $A$; sin embargo, nosotros consideramos que una manera más sencilla es que se pueda elegir el indicar de forma explícita la matriz $A$ (como listas anidadas).\n",
    "\n",
    "Es así, que para obtener la matriz $A$ a factorizar, se definirá la siguiente función:\n",
    "\n",
    "(Como procidimiento adicional, y para evitar errores al momento de realizar la factorización, se evaluará si es que la matriz $A$ indicada contiene alguna entrada de su diagonal principal igual a cero. En caso de detectarlo, se saldrá del programa)\n"
   ]
  },
  {
   "cell_type": "code",
   "execution_count": null,
   "id": "e8efdeb6",
   "metadata": {},
   "outputs": [],
   "source": [
    "def ingresar_matA(dimension):\n",
    "    \"\"\"\n",
    "    Parámetro:\n",
    "    - dimension: Dimensión de la matriz cuadrada A, en número entero positivo.\n",
    "\n",
    "    Pide que se ingrese la matriz A, ya sea por medio de sus entradas (una por una), o por medio de su representación en forma de lista anidada.\n",
    "\n",
    "    Verifica que la matriz A no contenga entradas iguales a cero en la diagonal principal.\n",
    "\n",
    "    Devuelve la matriz A proporcionada.\n",
    "    \"\"\"\n",
    "    print(\"Ahora, es necesario que se indique la matriz A\\n\")\n",
    "    print(\"Para ello, se puede hacer de dos formas: ingresar una por una sus entradas, o bien, \\ningresar de forma completa la matriz A (como lista anidada).\\n\")\n",
    "    print(\"Así, las opciones disponibles son:\\n\")\n",
    "    print(\"1. Ingresar manualmente cada elemento a_ij de la matriz A.\")\n",
    "    print(\"2. Introducir la matriz A completa, como lista anidada.\\n\")\n",
    "\n",
    "    # Se guada la opción elegida en la variable opcion_ingreso_matA\n",
    "    opcion_ingreso_matA = input(\"Selecciona 1 o 2 (indica únicamente ya sea el número 1 o 2): \")\n",
    "\n",
    "    A = [] # Se inicializa la matriz A como una lista vacía, para después poder agregarle los elementos.\n",
    "\n",
    "    # Dependiendo de la elección, se proporcionará la matriz $A$ ya sea por medio de sus entradas o en su forma matricial por medio de listas anidadas:\n",
    "\n",
    "    if opcion_ingreso_matA == \"1\": # Selección de ingresar los elementos de la matriz A uno a uno.\n",
    "        print(\"\\nPor favor, ingresa los elementos a_ij \\nde la matriz A, uno por uno:\")\n",
    "        for i in range(dimension):\n",
    "            fila_A = []\n",
    "            for j in range(dimension):\n",
    "                entrada_matriz = float(input(f\"a_{i+1}{j+1} = \")) # Se utiliza float, en caso de que la matriz contenga números decimales.\n",
    "                fila_A.append(entrada_matriz)\n",
    "            A.append(fila_A)\n",
    "    elif opcion_ingreso_matA == \"2\": # Selección de ingresar \n",
    "        print(\"\\nPor favor, ingresa la matriz A como una lista anidada: \")\n",
    "        print(\"\\nComo recordatorio, la matriz identidad para dimensión n=3, se introduciría como: \\n\")\n",
    "        print(\"[[1, 0, 0], [0, 1, 0], [0, 0, 1]] \\n\")\n",
    "        A = eval(input(\"Proporciona la Matriz A: \"))\n",
    "    else:\n",
    "        print(\"No se ingresó correctamte la matriz (o una entrada válida). \\nSe saldrá del programa.\")\n",
    "        exit()\n",
    "    \n",
    "    # Se verifica que la matriz A no contenga entradas iguales a cero en la diagonal principal.\n",
    "    for i in range(dimension):\n",
    "        if A[i][i] == 0:\n",
    "            print(f\"ERROR: la entrada a_{i+1}{i+1} de la matriz A, es cero. \\n La matriz podría no ser factorizable.\")\n",
    "            print(\"Para evitar errores, se saldrá del programa.\")\n",
    "            exit()\n",
    "\n",
    "    return A"
   ]
  },
  {
   "cell_type": "markdown",
   "id": "897ec79f",
   "metadata": {},
   "source": [
    "tal que, la matriz $A$ se almacenará en"
   ]
  },
  {
   "cell_type": "code",
   "execution_count": 4,
   "id": "a89954f0",
   "metadata": {},
   "outputs": [
    {
     "name": "stdout",
     "output_type": "stream",
     "text": [
      "Ahora, es necesario que se indique la matriz A\n",
      "\n",
      "Para ello, se puede hacer de dos formas: ingresar una por una sus entradas, o bien, \n",
      "ingresar de forma completa la matriz A (como lista anidada).\n",
      "\n",
      "Así, las opciones disponibles son:\n",
      "\n",
      "1. Ingresar manualmente cada elemento a_ij de la matriz A.\n",
      "2. Introducir la matriz A completa, como lista anidada.\n",
      "\n",
      "\n",
      "Por favor, ingresa los elementos a_ij \n",
      "de la matriz A, uno por uno:\n",
      "\n",
      "La matriz A ingresada es: \n",
      "[[1.0, 1.0, 0.0, 3.0], [2.0, 1.0, -1.0, 1.0], [3.0, -1.0, -1.0, 2.0], [-1.0, 2.0, 3.0, -1.0]]\n"
     ]
    }
   ],
   "source": [
    "A = ingresar_matA(n)\n",
    "\n",
    "# A fin de ser explícitos, se imprime la matriz A propocionada\n",
    "print(\"\\nLa matriz A ingresada es: \")\n",
    "print(A)"
   ]
  },
  {
   "cell_type": "markdown",
   "id": "39916094",
   "metadata": {},
   "source": [
    "Lo siguiente, será decidir qué diagonal principal tendrá únicamente unos (si la diagonal de la matriz $L$, o la diagonal de la matriz $U$). Para ello, nuevamente se definirá una función:"
   ]
  },
  {
   "cell_type": "code",
   "execution_count": 5,
   "id": "bac5914a",
   "metadata": {},
   "outputs": [],
   "source": [
    "def eleccion_diagonal_unos():\n",
    "    \"\"\"\n",
    "    Se pide al usuario que seleccione cuál matriz (L o U) tenga su diagnonal principal con unos.\n",
    "\n",
    "    Devuelve dos valores booleanos: diagonal_L y diagonal_U, los cuales indican la elección de la matriz que tendrá unos en su diagonal principal.\n",
    "\n",
    "    Es decir, si diagonal_L es True, la matriz L tendrá unos en su diagonal principal. \n",
    "    Si diagonal_U es True, la matriz U tendrá unos en su diagonal principal.\n",
    "\n",
    "    \"\"\"\n",
    "    print(\"\\nPor favor, selecciona qué matriz dentrá su diagnonal principal únicamente con unos:\\n\")\n",
    "    print(\"Opción 1. En la matriz L (triangular inferior)\")\n",
    "    print(\"Opción 2. En la matriz U (triangular superior)\\n\")\n",
    "    eleccion_diagonal = input(\"Por favor, indica únicamente el número de la opción preferida (1 o 2): \")\n",
    "\n",
    "    if eleccion_diagonal == \"1\":\n",
    "        diagonal_L = True\n",
    "        diagonal_U = False\n",
    "        print(\"\\nSe ha seleccionado que la matriz L tenga en su diagonal principal, únicamente unos.\")\n",
    "    elif eleccion_diagonal == \"2\":\n",
    "        diagonal_L = False\n",
    "        diagonal_U = True\n",
    "        print(\"\\nSe ha seleccionado que la matriz U tenga en su diagonal principal, únicamente unos.\")\n",
    "    else:\n",
    "        print(\"Opción inválida. Saliendo del programa.\")\n",
    "        exit()\n",
    "    \n",
    "    return diagonal_L, diagonal_U"
   ]
  },
  {
   "cell_type": "markdown",
   "id": "afcaf24a",
   "metadata": {},
   "source": [
    "tal que, la eleccíón se almacenará en "
   ]
  },
  {
   "cell_type": "code",
   "execution_count": 6,
   "id": "67c920da",
   "metadata": {},
   "outputs": [
    {
     "name": "stdout",
     "output_type": "stream",
     "text": [
      "\n",
      "Por favor, selecciona qué matriz dentrá su diagnonal principal únicamente con unos:\n",
      "\n",
      "Opción 1. En la matriz L (triangular inferior)\n",
      "Opción 2. En la matriz U (triangular superior)\n",
      "\n",
      "\n",
      "Se ha seleccionado que la matriz L tenga en su diagonal principal, únicamente unos.\n"
     ]
    }
   ],
   "source": [
    "diag_L, diag_U = eleccion_diagonal_unos()"
   ]
  },
  {
   "cell_type": "markdown",
   "id": "ec080f41",
   "metadata": {},
   "source": [
    "Ahora, teniendo los inputs necesarios para realizar el algoritmo 6.4 del libro"
   ]
  },
  {
   "cell_type": "markdown",
   "id": "ab14fcb9",
   "metadata": {},
   "source": [
    "<center> <img src=\"Algoritmo_6-4.png\">"
   ]
  },
  {
   "cell_type": "markdown",
   "id": "2698c71a",
   "metadata": {},
   "source": [
    "se procederá a definir la función que reaice dicho algoritmo:"
   ]
  },
  {
   "cell_type": "code",
   "execution_count": null,
   "id": "6944f9fe",
   "metadata": {},
   "outputs": [],
   "source": [
    "def factorizacion_LU(A, n, diag_L, diag_U):\n",
    "    \"\"\"\n",
    "    Parámetros:\n",
    "    - A: Matriz cuadrada de dimensión n x n a factorizar.\n",
    "    - n: Dimensión de la matriz A.\n",
    "    - diag_L: Booleano (True o False) que indica si la matriz L fue la seleccionada para tener unos en su diagonal principal.\n",
    "    - diag_U: Booleano (True o False) que indica si la matriz U fue la seleccionada para tener unos en su diagonal principal.\n",
    "    \n",
    "    Realiza el algoritmo correspondiente a la factorización LU, de la matriz A dada.\n",
    "\n",
    "    Devuelve las matrices L y U resultantes de la factorización.\n",
    "    \"\"\"\n",
    "    L = [[0.0] * n for _ in range(n)]  # Se inicializa la matriz L como una matriz n x n que contiene únicamente ceros\n",
    "    U = [[0.0] * n for _ in range(n)]  # Se inicializa la matriz U como una matriz n x n que contiene únicamente ceros\n",
    "\n",
    "    # PASOS DEL ALGORITMO 6.4\n",
    "\n",
    "    # Paso 1:\n",
    "    if diag_L: # En caso que se elija que la matriz L tenga unos en la diagonal principal\n",
    "        L[0][0] = 1.0  # Se asigna 1 a la entrada l_{11}, representado por L[0][0]\n",
    "        U[0][0] = A[0][0] # Ya que l_{11} = 1, entonces l_{11} u_{11} = a_{11} -> 1 * u_{11} = a_{11}\n",
    "    elif diag_U:\n",
    "        U[0][0] = 1.0  # Se asigna 1 a la entrada u_{11}, representado por U[0][0]\n",
    "        L[0][0] = A[0][0]  # Ya que u_{11} = 1, entonces l_{11} u_{11} = a_{11} -> l_{11} * 1 = a_{11}\n",
    "\n",
    "    if L[0][0] * U[0][0] == 0:\n",
    "        print(\"ERROR: La entrada a_11 de la matriz A es cero.\")\n",
    "        print(\"\\nPor tanto, no es posible realizar la factorización.\")\n",
    "        return None, None # Ya que la función devuelve las matrices L y U, se devuelve None para indicar que no se pudo realizar.\n",
    "\n",
    "    # Paso 2:\n",
    "    for j in range(1, n):\n",
    "        if diag_L: # En caso que se haya seleccionado la matriz L como la que tenga unos en la diagonal principal\n",
    "            U[0][j] = A[0][j] / L[0][0] # Se establece que u_{1j} = a_{1j} / l_{11}\n",
    "            L[j][0] = A[j][0] / U[0][0] # Se establece que l_{j1} = a_{j1} / u_{11}\n",
    "        elif diag_U: # En caso que se haya seleccionado la matriz U como la que tenga unos en la diagonal principal\n",
    "            U[0][j] = A[0][j] / L[0][0] # Se establece que u_{1j} = a_{1j} / l_{11}\n",
    "            L[j][0] = A[j][0] / U[0][0] # Se establece que l_{j1} = a_{j1} / u_{11}\n",
    "\n",
    "    # Paso 3-5:\n",
    "    for i in range(1, n-1):\n",
    "        sum_k = 0.0 # Se inicializa la sumatoria en cero.\n",
    "        for k in range(i):\n",
    "            sum_k += L[i][k] * U[k][i] # Se calcula la sumatoria de l_{ik} u_{ki} para k desde 0 hasta i-1\n",
    "            valor_aii = A[i][i] - sum_k  # Se actualiza la entrada a_{ii}, al restar la suma de los productos L[i][k] * U[k][i]\n",
    "        \n",
    "        if diag_L: # En caso que se haya seleccionado la matriz L como la que tenga unos en la diagonal principal\n",
    "            L[i][i] = 1.0 # Se establece que l_{ii} = 1\n",
    "            U[i][i] = valor_aii / L[i][i]  # Se despeja u_{ii}\n",
    "        elif diag_U: # En caso que se haya seleccionado la matriz U como la que tenga unos en la diagonal principal\n",
    "            U[i][i] = 1.0 # Se establece que u_{ii} = 1\n",
    "            L[i][i] = valor_aii / U[i][i]  # Se despeja l_{ii}\n",
    "\n",
    "        if L[i][i] * U[i][i] == 0:\n",
    "            print(\"ERROR: No es posiblie realizar la factorización.\")\n",
    "            return None, None\n",
    "\n",
    "        for j in range(i+1, n): # Paso 5\n",
    "            sum_k1 = 0.0 \n",
    "            for k in range(i):\n",
    "                sum_k1 += L[i][k] * U[k][j] # Se calcula la sumatoria de l_{ik} u_{kj} para k desde 0 hasta i-1\n",
    "            U[i][j] = (A[i][j] - sum_k1) / L[i][i]  # Se despeja u_{ij}\n",
    "\n",
    "            sum_k2 = 0.0 \n",
    "            for k in range(i):\n",
    "                sum_k2 += L[j][k] * U[k][i]\n",
    "            L[j][i] = (A[j][i] - sum_k2) / U[i][i] # Se despeja l_{ji}\n",
    "    \n",
    "    # Paso 6:\n",
    "    suma_k = 0.0\n",
    "    for k in range(n-1):\n",
    "        suma_k += L[n-1][k] * U[k][n-1]  # Se calcula la sumatoria de l_{n,k} u_{k,n} para k desde 1 hasta n-1\n",
    "    valor_lnn_unn = A[n-1][n-1] - suma_k  # Se obtiene l_{nn} u_{nn} = a_{nn} - sum_{k=1}^{n-1} l_{nk} u_{kn}\n",
    "    if diag_L:\n",
    "        L[n-1][n-1] = 1.0 \n",
    "        U[n-1][n-1] = valor_lnn_unn / L[n-1][n-1]\n",
    "    elif diag_U:\n",
    "        U[n-1][n-1] = 1.0\n",
    "        L[n-1][n-1] = valor_lnn_unn / U[n-1][n-1]\n",
    "\n",
    "    return L, U"
   ]
  },
  {
   "cell_type": "markdown",
   "id": "d03ca841",
   "metadata": {},
   "source": [
    "de forma que se almacenan las matrices $L$ y $U$ en"
   ]
  },
  {
   "cell_type": "code",
   "execution_count": 8,
   "id": "8ad5325e",
   "metadata": {},
   "outputs": [],
   "source": [
    "L, U = factorizacion_LU(A, n, diag_L, diag_U)"
   ]
  },
  {
   "cell_type": "markdown",
   "id": "97415d09",
   "metadata": {},
   "source": [
    "Recordando que, para los casos donde la factorización no era posible en el algoritmo, se devolvía None para ambas matrices, a continuación se devuelven las matrices $L$ y $U$ en caso que esto no se haya dado:"
   ]
  },
  {
   "cell_type": "code",
   "execution_count": 9,
   "id": "d10a48bc",
   "metadata": {},
   "outputs": [
    {
     "name": "stdout",
     "output_type": "stream",
     "text": [
      "\n",
      "La matriz L, resultante de la factorización LU, es:\n",
      "[1.0, 0.0, 0.0, 0.0]\n",
      "[2.0, 1.0, 0.0, 0.0]\n",
      "[3.0, 4.0, 1.0, 0.0]\n",
      "[-1.0, -3.0, 0.0, 1.0]\n",
      "\n",
      "La matriz U, resultante de la factorización LU, es:\n",
      "[1.0, 1.0, 0.0, 3.0]\n",
      "[0.0, -1.0, -1.0, -5.0]\n",
      "[0.0, 0.0, 3.0, 13.0]\n",
      "[0.0, 0.0, 0.0, -13.0]\n"
     ]
    }
   ],
   "source": [
    "if L is not None and U is not None:\n",
    "    print(\"\\nLa matriz L, resultante de la factorización LU, es:\")\n",
    "    for fila in L:\n",
    "        print(fila)\n",
    "\n",
    "    print(\"\\nLa matriz U, resultante de la factorización LU, es:\")\n",
    "    for fila in U:\n",
    "        print(fila)\n",
    "else:\n",
    "    print(\"No se pudo llevar a cabo la factorización LU.\")\n",
    "    print(\"Por tanto, no se pudieron obtener las matrices L y U.\")"
   ]
  },
  {
   "cell_type": "markdown",
   "id": "d2325d3f",
   "metadata": {},
   "source": [
    "<a id=\"2\"></a>\n",
    "## 2. Factorización de Crout para resolver sistemas lineales tridiagonales (Algoritmo 6.7)\n",
    "\n",
    "<a id=\"2.1\"></a>\n",
    "### Instrucciones\n",
    "Este algoritmo es específico para matrices tridiagonales cuyos elementos diferentes de cero son los de la diagonal principal y los que están justo arriba y debajo de ella. Esto es, aquellos elementos cuyos subíndices difieran, a lo más, en 1.\n",
    "Noten que la factorización de Crout fija los elementos de la diagonal de $U$ a 1.\n",
    "Noten también que el algoritmo 6.7 incluye la solución del sistema de ecuaciones cuya matriz de coeficientes es la matriz factorizada ($A$). Esto se hace paralelamente a la factorización, resolviendo primero $L\\mathbf{z} = \\mathbf{b}$ y luego $U\\mathbf{x} = \\mathbf{z}$.\n",
    "\n",
    "<a id=\"2.2\"></a>\n",
    "### Desarrollo"
   ]
  },
  {
   "cell_type": "markdown",
   "id": "2f18fe92",
   "metadata": {},
   "source": [
    "Esta factorización, se utiliza para resolver sistemas lineales $n \\times n$ de la forma\n",
    "\n",
    "\\begin{aligned}\n",
    " & E_1:\\quad a_{11}x_1+a_{12}x_2 & & =a_{1,n+1}, \\\\\n",
    " & E_2:\\quad a_{21}x_1+a_{22}x_2+a_{23}x_3 & & =a_{2,n+1}, \\\\\n",
    " & \\vdots &  & \\vdots  \\\\\n",
    " & E_{n-1}: & a_{n-1,n-2}x_{n-2}+a_{n-1,n-1}x_{n-1}+a_{n-1,n}x_{n} & =a_{n-1,n+1}, \\\\\n",
    " & E_{n}: & a_{n,n-1}x_{n-1}\\quad+a_{nn}x_{n} & =a_{n,n+1},\n",
    "\\end{aligned}\n",
    "\n",
    "el cual se asume tiene una única solución."
   ]
  },
  {
   "cell_type": "markdown",
   "id": "a5479cf2",
   "metadata": {},
   "source": [
    "Como entradas, se piden:\n",
    "\n",
    "- La dimensión $n$.\n",
    "- Las entradas de $A$.\n",
    "\n",
    "Note que, como se verá más adelante en el desarrollo del algoritmo (en particular en el Paso 1, ya que se requiere $a_{1,n+1}$), en realidad las entradas de $A$ incluyen también al vector columna $b$; es decir, se le pide al usuario que introduzca la matriz $A$ aumentada. \n",
    "\n",
    "Con ello en mente, de manera similar al algoritmo 6.4, lo primero que se necesita es obtener la dimensión $n$. \n",
    "\n",
    "<div class=\"alert alert-block alert-info\">\n",
    "Note que n se refiere a la dimensión de la matriz cuadrada de coeficientes A que se busca factorizar.\n",
    "</div>\n",
    "Para ello se define la siguiente función"
   ]
  },
  {
   "cell_type": "code",
   "execution_count": 10,
   "id": "22fda90f",
   "metadata": {},
   "outputs": [],
   "source": [
    "def dimension_n_mat_coef():\n",
    "    \"\"\"\n",
    "    Pide al usuario que indique la dimensión n de la matriz cuadrada de \n",
    "    coeficientes A, de tamaño n x n.\n",
    "\n",
    "    Evalua si la entrada proporcionada es un número entero positivo.\n",
    "    En caso de que la entrada no sea correcta, solicita que se ingrese un número válido.\n",
    "\n",
    "    Devuelve la dimensión \"n\". \n",
    "    \"\"\"\n",
    "    # Se inicia la variable n en -1, para garantizar que el while se pueda ejecutar al menos una vez.\n",
    "    n_mat_coef = -1\n",
    "\n",
    "    # Se utiliza un while para que se solicite la dimensión, hasta que se proporcione un número entero positivo.\n",
    "    while n_mat_coef <= 0:\n",
    "        n_dim = input(\"Por favor introduce, como número entero positivo, la dimensión n de la matriz cuadrada de coeficientes A: \")\n",
    "        if n_dim.isdigit(): # Verifica si la entrada es un dígito. \n",
    "            n_mat_coef = int(n_dim)\n",
    "            if n_mat_coef <= 0:\n",
    "                print(\"La dimensión debe corresponder a un número mayor que cero.\")\n",
    "                print(\"Por favor, ingresa un n > 0.\")\n",
    "        else:\n",
    "            print(\"Se ha proporcionado una dimensión inválida.\")\n",
    "            print(\"Por favor, ingresa un número entero positivo.\")\n",
    "    return n_mat_coef"
   ]
  },
  {
   "cell_type": "markdown",
   "id": "a48a3270",
   "metadata": {},
   "source": [
    "la cual se almacena por medio de"
   ]
  },
  {
   "cell_type": "code",
   "execution_count": 11,
   "id": "e7e421f6",
   "metadata": {},
   "outputs": [],
   "source": [
    "n_Crout = dimension_n_mat_coef()"
   ]
  },
  {
   "cell_type": "markdown",
   "id": "3fe9f0a8",
   "metadata": {},
   "source": [
    "Ahora, como ya se mencionó previamente, es necesario obtener las entradas de la matriz aumentada $A$ (de tamaño $n \\times (n+1)$); dichas entradas corresponden a\n",
    "\n",
    "$$ A_{aumentada} = [A\\mid\\mathbf{b}]= \\left[\\begin{array}{cccc|c}\n",
    "a_{11} & a_{12} & \\cdots & a_{1n} & b_1 \\\\\n",
    "a_{21} & a_{22} & \\cdots & a_{2n} & b_2 \\\\\n",
    "\\vdots & \\vdots &        & \\vdots & \\vdots \\\\\n",
    "a_{n1} & a_{n2} & \\cdots & a_{nn} & b_n\n",
    "\\end{array}\\right]\n",
    "$$\n",
    "\n",
    "Donde, comparando con la estructura del sistema lineal $n \\times n$ mencionado previamente, se observa que en el algoritmo se denotará a $b_1$ por $a_{1,n+1}$, a $b_2$ por $a_{2,n+1}$, y así sucesivamente hasta denotar $b_n$ por $a_{n,n+1}$.\n",
    "\n",
    "Adicionalmente, consideramos que es necesario hacer una validación de que la matriz de coeficientes $A$ sea tridiagonal, ya que este algoritmo está hecho para este tipo de matrices. \n",
    "\n",
    "Así, recordando que las matrices tridiagonales son aquellas cuyos elementos diferentes de cero, son los de la diagonal principal y los que están justo arriba y debajo de ella. Esto es, aquellos elementos cuyos subíndices difieran, a lo más, en 1.\n",
    "\n",
    "Es equivalente a que, para validar que una matriz sea tridiagonal, se necesita cumplir que los elementos $a_{ij} =0$ cuando $|i-j|>1$.\n",
    "\n",
    "Entonces, se define la siguiente función, que confirma que la matriz sea tridiagonal:"
   ]
  },
  {
   "cell_type": "code",
   "execution_count": 12,
   "id": "235d59fd",
   "metadata": {},
   "outputs": [],
   "source": [
    "def tridiagonalidad(matriz, dimension):\n",
    "    \"\"\"\n",
    "    Parámetros:\n",
    "    - matriz: Matriz a evaluar su tridiagonalidad.\n",
    "    - dimension: Dimensión de la matriz a evaluar su tridiagonalidad.\n",
    "\n",
    "    Se verifica si una matriz es tridiagonal.\n",
    "\n",
    "    Devuelve True si la matriz proporcionada es tridiagonal.\n",
    "    \n",
    "    En caso de no serlo, devuelve False y menciona el elemento de la matriz\n",
    "    que genera error.\n",
    "    \"\"\"\n",
    "    for i in range(dimension):\n",
    "        for j in range(dimension):\n",
    "            if abs(i - j) > 1 and matriz[i][j] != 0: # Evalua si alguna entrada a_{ij} es distitinta de cero, si se cumple que |i-j|>1\n",
    "                print(f\"ERROR: La entrada [{i+1}][{j+1}] de la matriz {matriz} = {matriz[i][j]} debería ser 0.\")\n",
    "                print(\"\\nPor tanto, la matriz no es tridiagonal.\")\n",
    "                return False\n",
    "    return True"
   ]
  },
  {
   "cell_type": "markdown",
   "id": "c3dd5daa",
   "metadata": {},
   "source": [
    "Por tanto, ahora se definirá una función que obtenga las entradas de la matriz expandida (verificando en el proceso que la matriz de coeficientes $A$, sea tridiagonal):"
   ]
  },
  {
   "cell_type": "code",
   "execution_count": 13,
   "id": "1a1d346e",
   "metadata": {},
   "outputs": [],
   "source": [
    "def ingresar_matA_aumentada(dim_mat_coef):\n",
    "    \"\"\"\n",
    "    Parámetros:\n",
    "    - dim_mat_coef: Dimension de la matriz de coeficientes A, indicado por un número entero positivo.\n",
    "\n",
    "    Pide que se ingrese la matriz aumentada A, ya sea por medio de sus entradas (una por una),\n",
    "    o por medio de su representación en forma de lista anidada.\n",
    "\n",
    "    La matriz aumetada A es una matriz de tamaño n x (n+1), que contiene las entradas de la matriz de \n",
    "    coeficientes A y las entradas del vector columna de términos independientes (a_{1,n+1}, ..., a_{n,n+1}).\n",
    "\n",
    "    Devuelve la matriz aumentada A proporcionada.\n",
    "    \"\"\"\n",
    "\n",
    "    print(\"Ahora, es necesario que se indique la matriz aumentada A\\n\")\n",
    "    print(\"Para ello, se puede hacer de dos formas: ingresar una por una sus entradas, o bien, \\ningresar de forma completa la matriz A (como lista anidada).\\n\")\n",
    "    print(\"Así, las opciones disponibles son:\\n\")\n",
    "    print(\"Opción 1. Ingresar manualmente cada elemento a_ij y a_{i,n+1} de la matriz aumentada A.\")\n",
    "    print(\"Opción 2. Introducir la matriz aumentada A completa, como lista anidada.\\n\")\n",
    "\n",
    "    # Se guarda la opción elegida en la variable opcion_ingreso_matA_aumentada\n",
    "    opcion_ingreso_matA_aumentada = input(\"Selecciona la opción preferida (indica únicamente ya sea el número 1 o 2): \")\n",
    "\n",
    "    A_aumentada = [] # Se inicializa la matriz aumentada A como una lista vacía, para después poder agregarle los elementos.\n",
    "\n",
    "    # Dependiendo de la elección, se proporcionará la matriz aumentada $A$,\n",
    "    # ya sea por medio de sus entradas o en su forma matricial por medio de listas anidadas:\n",
    "\n",
    "    if opcion_ingreso_matA_aumentada == \"1\": # Selección de ingresar los elementos de la matriz aumentada A uno a uno.\n",
    "        print(\"\\nPor favor, ingresa los elementos a_ij y a_{i,n+1} \\nde la matriz aumentada A, uno por uno:\")\n",
    "        for i in range(dim_mat_coef):\n",
    "            fila_A = []\n",
    "            for j in range(dim_mat_coef + 1):\n",
    "                if j < dim_mat_coef:\n",
    "                    entrada_matriz = float(input(f\"a_{i+1}{j+1} = \")) # Se utiliza float, en caso de que la matriz contenga números decimales.\n",
    "                else:\n",
    "                    entrada_matriz = float(input(f\"a_({i+1},n+1) (término independiente) =\"))\n",
    "                fila_A.append(entrada_matriz)\n",
    "            A_aumentada.append(fila_A)\n",
    "    elif opcion_ingreso_matA_aumentada == \"2\": # Selección de ingresar la matriz aumentada A completa como lista anidada.\n",
    "        print(\"\\nPor favor, ingresa la matriz aumentada A como una lista anidada: \")\n",
    "        print(\"\\nComo recordatorio y a manera de ejemplo, siendo los coeficientes de la matriz A los siguientes: \\n\")\n",
    "        print(\"[[1, 2, 3], [4, 5, 6], [7, 8, 9]] \\n\")\n",
    "        print(\"Y el vector columna de términos independientes: \\n\")\n",
    "        print(\"[10, 11, 12] \\n\")\n",
    "        print(\"La matriz aumentada A se introduciría como: \\n\")\n",
    "        print(\"[[1, 2, 3, 10], [4, 5, 6, 11], [7, 8, 9, 12]] \\n\")\n",
    "        A_aumentada = eval(input(\"Proporciona la Matriz aumentada A: \"))\n",
    "        for i in range(dim_mat_coef):\n",
    "            if len(A_aumentada[i]) != dim_mat_coef + 1: # Se verifica que se haya introducido la matriz aumentada A con n+1 columnas, y no la matriz de coeficientes A.\n",
    "                print(\"La matriz aumentada A debe tener n+1 columnas.\")\n",
    "                print(\"Por favor, introduce tambíen las entradas de los términos independientes.\")\n",
    "                exit()\n",
    "    else:\n",
    "        print(\"No se ingresaron los datos correctamte (o se ingresó una entrada no válida).\")\n",
    "        print(\"\\nPor favor, revisar errores. Se saldrá del programa.\")\n",
    "        exit()\n",
    "    \n",
    "    # Se extrae únicamente la matriz de coeficientes A.\n",
    "    mat_coef_A = []\n",
    "    for i in range(dim_mat_coef):\n",
    "        fila_mat_coef_A = []\n",
    "        for j in range(dim_mat_coef):\n",
    "            fila_mat_coef_A.append(A_aumentada[i][j])\n",
    "        mat_coef_A.append(fila_mat_coef_A)\n",
    "\n",
    "    # Se verifica que la matriz de coeficientes A sea tridiagonal.\n",
    "    tridiagonal_verdadero =  tridiagonalidad(mat_coef_A, dim_mat_coef)\n",
    "    if tridiagonal_verdadero == False:\n",
    "        print(\"La matriz de coeficientes A dada, no es tridiagonal.\")\n",
    "        print(\"Por favor, revisar la tridiagonaidad.\")\n",
    "        print(\"Se saldrá del programa.\")\n",
    "        exit()\n",
    "\n",
    "    return A_aumentada"
   ]
  },
  {
   "cell_type": "markdown",
   "id": "429656b1",
   "metadata": {},
   "source": [
    "Así, la matriz aumentada se guarda en"
   ]
  },
  {
   "cell_type": "code",
   "execution_count": 14,
   "id": "8e1b4583",
   "metadata": {},
   "outputs": [
    {
     "name": "stdout",
     "output_type": "stream",
     "text": [
      "Ahora, es necesario que se indique la matriz aumentada A\n",
      "\n",
      "Para ello, se puede hacer de dos formas: ingresar una por una sus entradas, o bien, \n",
      "ingresar de forma completa la matriz A (como lista anidada).\n",
      "\n",
      "Así, las opciones disponibles son:\n",
      "\n",
      "Opción 1. Ingresar manualmente cada elemento a_ij y a_{i,n+1} de la matriz aumentada A.\n",
      "Opción 2. Introducir la matriz aumentada A completa, como lista anidada.\n",
      "\n",
      "\n",
      "Por favor, ingresa los elementos a_ij y a_{i,n+1} \n",
      "de la matriz aumentada A, uno por uno:\n"
     ]
    }
   ],
   "source": [
    "A_Crout = ingresar_matA_aumentada(n_Crout)"
   ]
  },
  {
   "cell_type": "markdown",
   "id": "5bf8ed40",
   "metadata": {},
   "source": [
    "Ya que se cuentan con las entradas necesarias para realizar el algoritmo 6.7 del libro, "
   ]
  },
  {
   "cell_type": "markdown",
   "id": "ba35da5d",
   "metadata": {},
   "source": [
    "<center> <img src=\"Algoritmo_6-7_pt1.png\">"
   ]
  },
  {
   "cell_type": "markdown",
   "id": "9b7fc2e2",
   "metadata": {},
   "source": [
    "<center> <img src=\"Algoritmo_6-7_pt2.png\">"
   ]
  },
  {
   "cell_type": "markdown",
   "id": "714af057",
   "metadata": {},
   "source": [
    "se procederá a realizarlo. Para ello, se definirá la siguiente función"
   ]
  },
  {
   "cell_type": "code",
   "execution_count": 17,
   "id": "79ec5cf9",
   "metadata": {},
   "outputs": [],
   "source": [
    "def algoritmo_Crout(dimension, matriz_aumentada):\n",
    "    \"\"\"\n",
    "    Parámetros:\n",
    "    - dimension: Dimensión de la matriz cuadrada de coeficientes, de tamaño n x n.\n",
    "    - matriz_aumentada: Matriz aumentada de tamaño n x (n+1), la cual se obtiene a \n",
    "    partir de la función ingresar_matA_aumentada(dim_mat_coef). Contiene las entradas a_{ij} \n",
    "    de la matriz de coeficientes A, y las entradas a_{i,n+1} del vector columna de \n",
    "    términos independientes del sistema lineal de ecuaciones n x n.\n",
    "\n",
    "    Realiza el algoritmo correspondiente de la factorizacion de Crout para sistemas lineales tridiagonales.\n",
    "\n",
    "    Factoriza la matriz aumentada dada en las matrices L y U, donde U tiene unos en su diagonal principal.\n",
    "\n",
    "    Devuelve la solución x_1, ..., x_n del sistema lineal de ecuaciones n x n.\n",
    "    \"\"\"\n",
    "    L = [[0.0] * dimension for _ in range(dimension)]  # Inicializa L como una matriz n x n con ceros\n",
    "    U = [[0.0] * dimension for _ in range(dimension)]  # Inicializa U como una matriz n x n con ceros\n",
    "    z = [0.0] * dimension  # Inicializa el vector z (de tamaño n) con ceros\n",
    "    x = [0.0] * dimension  # Inicializa el vector x (de tamaño n) con ceros\n",
    "\n",
    "    # Fijar elementos de la diagonal principal de U a 1\n",
    "    for i in range(dimension):\n",
    "        U[i][i]= 1.0\n",
    "    \n",
    "\n",
    "    # CONFIGURACIÓN Y SOLUCIÓN DE Lz = b\n",
    "\n",
    "    # Paso 1:\n",
    "    L[0][0] = matriz_aumentada[0][0]  # Se establece l_{11} = a_{11}\n",
    "    U[0][1] = matriz_aumentada[0][1] / L[0][0]  # Se establece u_{12} = a_{12} / l_{11}\n",
    "    z[0] = matriz_aumentada[0][dimension] / L[0][0]  # Se establece z_1 = a_{1,n+1} / l_{11}\n",
    "\n",
    "    # Paso 2:\n",
    "    for i in range(1, dimension -1):\n",
    "        L[i][i-1] = matriz_aumentada[i][i-1]  # Se establece l_{i,i-1} = a_{i,i-1}\n",
    "        L[i][i] = matriz_aumentada[i][i] - L[i][i-1] * U[i-1][i] # Se establece l_{ii} = a_{ii} - l_{i,i-1}  u_{i-1,i}\n",
    "        U[i][i+1] = matriz_aumentada[i][i+1] / L[i][i] # Se establece u_{i,i+1} = a_{i,i+1} / l_{ii}\n",
    "        z[i] = (matriz_aumentada[i][dimension] - L[i][i-1] * z[i-1]) / L[i][i] # Se establece z_i = (a_{i,n+1} - l_{i,i-1} z_{i-1}) / l_{ii}\n",
    "\n",
    "    # Paso 3:\n",
    "    L[dimension-1][dimension-2] = matriz_aumentada[dimension-1][dimension-2] # Se determina l_{n,n-1} = a_{n,n-1}\n",
    "    L[dimension-1][dimension-1] = matriz_aumentada[dimension-1][dimension-1] - L[dimension-1][dimension-2] * U[dimension-2][dimension-1] # Se determina l_{nn} = a_{nn} - l_{n,n-1} u_{n-1,n}\n",
    "    z[dimension-1] = (matriz_aumentada[dimension-1][dimension] - L[dimension-1][dimension-2] * z[dimension-2]) / L[dimension-1][dimension-1] # Se determina z_n = (a_{n,n+1} - l_{n,n-1} z_{n-1}) / l_{nn}\n",
    "\n",
    "    # SOLUCIÓN DE U x= z\n",
    "\n",
    "    # Paso 4:\n",
    "    x[dimension-1] = z[dimension-1]  # Se establece x_n = z_n\n",
    "\n",
    "    # Paso 5:\n",
    "    for i in range(dimension - 2, -1, -1):\n",
    "        x[i] = z[i] - U[i][i+1] * x[i+1]  # Se determina x_i = z_i - u_{i,i+1} x_{i+1}\n",
    "    \n",
    "\n",
    "    return x, L, U"
   ]
  },
  {
   "cell_type": "markdown",
   "id": "41d0a551",
   "metadata": {},
   "source": [
    "cuyos resultados se guardan en"
   ]
  },
  {
   "cell_type": "code",
   "execution_count": 18,
   "id": "49b3cfe1",
   "metadata": {},
   "outputs": [
    {
     "name": "stdout",
     "output_type": "stream",
     "text": [
      "\n",
      "La solución del sistema lineal n x n, está dado por:\n",
      "x_1 = 1.00\n",
      "x_2 = 1.00\n",
      "x_3 = 1.00\n",
      "x_4 = 1.00\n",
      "\n",
      "La matriz L, resultante de la factorización de la matriz de coeficientes A, es:\n",
      "[2.0, 0.0, 0.0, 0.0]\n",
      "[-1.0, 1.5, 0.0, 0.0]\n",
      "[0.0, -1.0, 1.3333333333333335, 0.0]\n",
      "[0.0, 0.0, -1.0, 1.25]\n",
      "\n",
      "La matriz U, resultante de la factorización de la matriz de coeficientes A, es:\n",
      "[1.0, -0.5, 0.0, 0.0]\n",
      "[0.0, 1.0, -0.6666666666666666, 0.0]\n",
      "[0.0, 0.0, 1.0, -0.7499999999999999]\n",
      "[0.0, 0.0, 0.0, 1.0]\n"
     ]
    }
   ],
   "source": [
    "solucion_x, L, U = algoritmo_Crout(n_Crout, A_Crout)\n",
    "\n",
    "# Se muestra la solución x_1, ..., x_n del sistema lineal de ecuaciones n x n.\n",
    "print(\"\\nLa solución del sistema lineal n x n, está dado por:\")\n",
    "for i in range(len(solucion_x)):\n",
    "    print(f\"x_{i+1} = {solucion_x[i]:.2f}\") # Se muestran las soluciones con únicamente dos decimales.\n",
    "\n",
    "# Matrices L y U resultantes de la factorización\n",
    "\n",
    "print(\"\\nLa matriz L, resultante de la factorización de la matriz de coeficientes A, es:\")\n",
    "for filas_L in L:\n",
    "    print(filas_L)\n",
    "\n",
    "print(\"\\nLa matriz U, resultante de la factorización de la matriz de coeficientes A, es:\")\n",
    "for filas_U in U:\n",
    "    print(filas_U)\n"
   ]
  }
 ],
 "metadata": {
  "kernelspec": {
   "display_name": "base",
   "language": "python",
   "name": "python3"
  },
  "language_info": {
   "codemirror_mode": {
    "name": "ipython",
    "version": 3
   },
   "file_extension": ".py",
   "mimetype": "text/x-python",
   "name": "python",
   "nbconvert_exporter": "python",
   "pygments_lexer": "ipython3",
   "version": "3.12.7"
  }
 },
 "nbformat": 4,
 "nbformat_minor": 5
}
